
#@markdown Run this code to see guesiong game
import random

# Define a dictionary of words and their hints
word_hints = {
    "suprasegmental": [
        "This term is related to the features of speech that go beyond individual sounds.",
        "It is often associated with intonation, stress, and timing.",
        "Examples include pitch, tone, and stress patterns.",
        "The answer begins with 's'."
    ],
    "geminate": [
        "This term is related to a specific type of consonant.",
        "It refers to a consonant that is pronounced for a longer duration than its regular counterpart.",
        "In some languages, it can be represented by doubling the consonant in writing.",
        "The answer begins with 'g'."
    ],
    "syllable": [
        "This term is related to a unit of speech.",
        "It is a sequence of speech sounds, typically consisting of a vowel and any surrounding consonants.",
        "A word can have one or multiple of these units.",
        "The answer begins with 's'."
    ]
}

# Define guessing game

def guessing_game(word_hints):
    words = list(word_hints.keys())
    random.shuffle(words)

    for word in words:
        print("\nGuess the word based on the following hints:")
        hints = word_hints[word]
        attempts = 0

        while attempts < len(hints):
            print(f"Hint {attempts + 1}: {hints[attempts]}")
            guess = input("Your guess: ").strip().lower()

            if guess == word.lower():
                print("Congratulations! You guessed the correct word!\n")
                break
            else:
                print("Incorrect. Try again with another hint.\n")
                attempts += 1

        if attempts == len(hints):
            print(f"Sorry, you've run out of hints. The correct word was: {word}\n")

# Using this conditional structure is a common practice in Python to allow a script to be both executed as a standalone program and imported as a module in other scripts without immediately running the code within the script.
if __name__ == "__main__":
  guessing_game(word_hints)
