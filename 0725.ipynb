{
  "nbformat": 4,
  "nbformat_minor": 0,
  "metadata": {
    "colab": {
      "provenance": [],
      "authorship_tag": "ABX9TyMV5X6tKteEuxm982zqjDvQ",
      "include_colab_link": true
    },
    "kernelspec": {
      "name": "python3",
      "display_name": "Python 3"
    },
    "language_info": {
      "name": "python"
    }
  },
  "cells": [
    {
      "cell_type": "markdown",
      "metadata": {
        "id": "view-in-github",
        "colab_type": "text"
      },
      "source": [
        "<a href=\"https://colab.research.google.com/github/Englishson0909/EPA23/blob/main/0725.ipynb\" target=\"_parent\"><img src=\"https://colab.research.google.com/assets/colab-badge.svg\" alt=\"Open In Colab\"/></a>"
      ]
    },
    {
      "cell_type": "code",
      "execution_count": 1,
      "metadata": {
        "id": "hQapfWwHzbbn"
      },
      "outputs": [],
      "source": [
        "#@markdown 1) Install and import modules\n",
        "%%capture\n",
        "!pip install gtts\n",
        "from gtts import gTTS\n",
        "from IPython.display import Audio, display"
      ]
    },
    {
      "cell_type": "code",
      "source": [],
      "metadata": {
        "id": "NsSjBucgzt20"
      },
      "execution_count": null,
      "outputs": []
    },
    {
      "cell_type": "code",
      "source": [
        "#@markdown 2) Define tts(text)\n",
        "\n",
        "def tts(txt):\n",
        "  tts = gTTS(txt, lang='en')\n",
        "  tts.save(\"sample.mp3\")\n",
        "  return Audio(\"/content/sample.mp3\")"
      ],
      "metadata": {
        "id": "AzjHQVZ8egIG"
      },
      "execution_count": 2,
      "outputs": []
    },
    {
      "cell_type": "code",
      "source": [
        "#@markdown 3) Getting audio and display\n",
        "\n",
        "mytext = input(\"Type text: \")\n",
        "tts(mytext)"
      ],
      "metadata": {
        "id": "WPDxZsY0z1aA"
      },
      "execution_count": null,
      "outputs": []
    },
    {
      "cell_type": "code",
      "source": [],
      "metadata": {
        "id": "169O3N75z9oJ"
      },
      "execution_count": null,
      "outputs": []
    },
    {
      "cell_type": "code",
      "source": [
        "#@markdown Q1: \"What is the purpose of English Education?\"\n",
        "\n",
        "mytext = \"The purpose of English education is to teach global human and teach the studnets English.\"\n",
        "print(mytext)\n",
        "tts(mytext)"
      ],
      "metadata": {
        "id": "Xes87bY2X45M"
      },
      "execution_count": null,
      "outputs": []
    },
    {
      "cell_type": "code",
      "source": [],
      "metadata": {
        "id": "-CfCdXFX0kku"
      },
      "execution_count": null,
      "outputs": []
    },
    {
      "cell_type": "code",
      "source": [
        "#@markdown Test: audio\n",
        "\n",
        "text = \"I am trying to overcome myselef through this course.\"\n",
        "tts(text)\n",
        "Audio(\"sample.mp3\", autoplay=True)"
      ],
      "metadata": {
        "id": "SQvSXzy8Y9av"
      },
      "execution_count": null,
      "outputs": []
    }
  ]
}