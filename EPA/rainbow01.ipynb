{
  "nbformat": 4,
  "nbformat_minor": 0,
  "metadata": {
    "colab": {
      "provenance": [],
      "include_colab_link": true
    },
    "kernelspec": {
      "name": "python3",
      "display_name": "Python 3"
    },
    "language_info": {
      "name": "python"
    }
  },
  "cells": [
    {
      "cell_type": "markdown",
      "metadata": {
        "id": "view-in-github",
        "colab_type": "text"
      },
      "source": [
        "<a href=\"https://colab.research.google.com/github/Englishson0909/EPA23/blob/main/EPA/rainbow01.ipynb\" target=\"_parent\"><img src=\"https://colab.research.google.com/assets/colab-badge.svg\" alt=\"Open In Colab\"/></a>"
      ]
    },
    {
      "cell_type": "markdown",
      "source": [
        "# Rainbow passage"
      ],
      "metadata": {
        "id": "ilcAHp87mjjT"
      }
    },
    {
      "cell_type": "markdown",
      "source": [
        "## Setting: import libraries"
      ],
      "metadata": {
        "id": "rcMd5DNDnqEt"
      }
    },
    {
      "cell_type": "code",
      "execution_count": 87,
      "metadata": {
        "cellView": "form",
        "id": "q6WBYXw7meZQ"
      },
      "outputs": [],
      "source": [
        "#@markdown Install and import libraries\n",
        "%%capture\n",
        "!pip install gtts\n",
        "from gtts import gTTS\n",
        "from IPython.display import Audio, display\n",
        "import pandas as pd"
      ]
    },
    {
      "cell_type": "code",
      "source": [
        "#@markdown Define ktts(), etts()\n",
        "def etts(txt):\n",
        "  tts = gTTS(txt, lang='en')\n",
        "  tts.save(\"E-audio.mp3\")\n",
        "  return Audio(\"/content/E-audio.mp3\")\n",
        "\n",
        "def ktts(txt):\n",
        "  tts = gTTS(txt, lang='ko')\n",
        "  tts.save(\"K-audio.mp3\")\n",
        "  return Audio(\"/content/K-audio.mp3\")"
      ],
      "metadata": {
        "cellView": "form",
        "id": "c5l7Ut_2pL6J"
      },
      "execution_count": 88,
      "outputs": []
    },
    {
      "cell_type": "code",
      "source": [
        "#@markdown Read csv file\n",
        "url = \"https://raw.githubusercontent.com/Englishson0909/EPA23_SHS/main/0621.csv\"\n",
        "df = pd.read_csv(url)\n",
        "df.head()"
      ],
      "metadata": {
        "colab": {
          "base_uri": "https://localhost:8080/",
          "height": 212
        },
        "id": "-AxeL5Oqnl5h",
        "outputId": "4b53c658-25c0-461b-e058-16230ca19726"
      },
      "execution_count": 89,
      "outputs": [
        {
          "output_type": "execute_result",
          "data": {
            "text/plain": [
              "   SN                                          Setnence \n",
              "0  S1  Yesterday, the bank at the corner of the Main ...\n",
              "1  S2                 Police have caught three suspects.\n",
              "2  S3                   Right now, each team is suspect.\n",
              "3  S4  Each team is asked to write alibi report withi...\n",
              "4  S5  Your team can be the robber if you can’t tell ..."
            ],
            "text/html": [
              "\n",
              "  <div id=\"df-288b333f-86ef-48f0-9bbe-778673b28269\">\n",
              "    <div class=\"colab-df-container\">\n",
              "      <div>\n",
              "<style scoped>\n",
              "    .dataframe tbody tr th:only-of-type {\n",
              "        vertical-align: middle;\n",
              "    }\n",
              "\n",
              "    .dataframe tbody tr th {\n",
              "        vertical-align: top;\n",
              "    }\n",
              "\n",
              "    .dataframe thead th {\n",
              "        text-align: right;\n",
              "    }\n",
              "</style>\n",
              "<table border=\"1\" class=\"dataframe\">\n",
              "  <thead>\n",
              "    <tr style=\"text-align: right;\">\n",
              "      <th></th>\n",
              "      <th>SN</th>\n",
              "      <th>Setnence</th>\n",
              "    </tr>\n",
              "  </thead>\n",
              "  <tbody>\n",
              "    <tr>\n",
              "      <th>0</th>\n",
              "      <td>S1</td>\n",
              "      <td>Yesterday, the bank at the corner of the Main ...</td>\n",
              "    </tr>\n",
              "    <tr>\n",
              "      <th>1</th>\n",
              "      <td>S2</td>\n",
              "      <td>Police have caught three suspects.</td>\n",
              "    </tr>\n",
              "    <tr>\n",
              "      <th>2</th>\n",
              "      <td>S3</td>\n",
              "      <td>Right now, each team is suspect.</td>\n",
              "    </tr>\n",
              "    <tr>\n",
              "      <th>3</th>\n",
              "      <td>S4</td>\n",
              "      <td>Each team is asked to write alibi report withi...</td>\n",
              "    </tr>\n",
              "    <tr>\n",
              "      <th>4</th>\n",
              "      <td>S5</td>\n",
              "      <td>Your team can be the robber if you can’t tell ...</td>\n",
              "    </tr>\n",
              "  </tbody>\n",
              "</table>\n",
              "</div>\n",
              "      <button class=\"colab-df-convert\" onclick=\"convertToInteractive('df-288b333f-86ef-48f0-9bbe-778673b28269')\"\n",
              "              title=\"Convert this dataframe to an interactive table.\"\n",
              "              style=\"display:none;\">\n",
              "        \n",
              "  <svg xmlns=\"http://www.w3.org/2000/svg\" height=\"24px\"viewBox=\"0 0 24 24\"\n",
              "       width=\"24px\">\n",
              "    <path d=\"M0 0h24v24H0V0z\" fill=\"none\"/>\n",
              "    <path d=\"M18.56 5.44l.94 2.06.94-2.06 2.06-.94-2.06-.94-.94-2.06-.94 2.06-2.06.94zm-11 1L8.5 8.5l.94-2.06 2.06-.94-2.06-.94L8.5 2.5l-.94 2.06-2.06.94zm10 10l.94 2.06.94-2.06 2.06-.94-2.06-.94-.94-2.06-.94 2.06-2.06.94z\"/><path d=\"M17.41 7.96l-1.37-1.37c-.4-.4-.92-.59-1.43-.59-.52 0-1.04.2-1.43.59L10.3 9.45l-7.72 7.72c-.78.78-.78 2.05 0 2.83L4 21.41c.39.39.9.59 1.41.59.51 0 1.02-.2 1.41-.59l7.78-7.78 2.81-2.81c.8-.78.8-2.07 0-2.86zM5.41 20L4 18.59l7.72-7.72 1.47 1.35L5.41 20z\"/>\n",
              "  </svg>\n",
              "      </button>\n",
              "      \n",
              "  <style>\n",
              "    .colab-df-container {\n",
              "      display:flex;\n",
              "      flex-wrap:wrap;\n",
              "      gap: 12px;\n",
              "    }\n",
              "\n",
              "    .colab-df-convert {\n",
              "      background-color: #E8F0FE;\n",
              "      border: none;\n",
              "      border-radius: 50%;\n",
              "      cursor: pointer;\n",
              "      display: none;\n",
              "      fill: #1967D2;\n",
              "      height: 32px;\n",
              "      padding: 0 0 0 0;\n",
              "      width: 32px;\n",
              "    }\n",
              "\n",
              "    .colab-df-convert:hover {\n",
              "      background-color: #E2EBFA;\n",
              "      box-shadow: 0px 1px 2px rgba(60, 64, 67, 0.3), 0px 1px 3px 1px rgba(60, 64, 67, 0.15);\n",
              "      fill: #174EA6;\n",
              "    }\n",
              "\n",
              "    [theme=dark] .colab-df-convert {\n",
              "      background-color: #3B4455;\n",
              "      fill: #D2E3FC;\n",
              "    }\n",
              "\n",
              "    [theme=dark] .colab-df-convert:hover {\n",
              "      background-color: #434B5C;\n",
              "      box-shadow: 0px 1px 3px 1px rgba(0, 0, 0, 0.15);\n",
              "      filter: drop-shadow(0px 1px 2px rgba(0, 0, 0, 0.3));\n",
              "      fill: #FFFFFF;\n",
              "    }\n",
              "  </style>\n",
              "\n",
              "      <script>\n",
              "        const buttonEl =\n",
              "          document.querySelector('#df-288b333f-86ef-48f0-9bbe-778673b28269 button.colab-df-convert');\n",
              "        buttonEl.style.display =\n",
              "          google.colab.kernel.accessAllowed ? 'block' : 'none';\n",
              "\n",
              "        async function convertToInteractive(key) {\n",
              "          const element = document.querySelector('#df-288b333f-86ef-48f0-9bbe-778673b28269');\n",
              "          const dataTable =\n",
              "            await google.colab.kernel.invokeFunction('convertToInteractive',\n",
              "                                                     [key], {});\n",
              "          if (!dataTable) return;\n",
              "\n",
              "          const docLinkHtml = 'Like what you see? Visit the ' +\n",
              "            '<a target=\"_blank\" href=https://colab.research.google.com/notebooks/data_table.ipynb>data table notebook</a>'\n",
              "            + ' to learn more about interactive tables.';\n",
              "          element.innerHTML = '';\n",
              "          dataTable['output_type'] = 'display_data';\n",
              "          await google.colab.output.renderOutput(dataTable, element);\n",
              "          const docLink = document.createElement('div');\n",
              "          docLink.innerHTML = docLinkHtml;\n",
              "          element.appendChild(docLink);\n",
              "        }\n",
              "      </script>\n",
              "    </div>\n",
              "  </div>\n",
              "  "
            ]
          },
          "metadata": {},
          "execution_count": 89
        }
      ]
    },
    {
      "cell_type": "markdown",
      "source": [
        "## Audio files of each sentence from the passage"
      ],
      "metadata": {
        "id": "k4OGESh-rKbZ"
      }
    },
    {
      "cell_type": "code",
      "source": [
        "#@markdown sentences (autoplay on)\n",
        "Sentence = \"1\" #@param = [1, 2, 3, 4, 5]\n",
        "sn = int(Sentence)\n",
        "\n",
        "txt = df['sentence'][sn-1]\n",
        "etts(txt)\n",
        "Audio(\"E-audio.mp3\", autoplay = True)"
      ],
      "metadata": {
        "colab": {
          "base_uri": "https://localhost:8080/",
          "height": 523
        },
        "id": "5HHzsxfEn7qn",
        "outputId": "8f58cb7c-f77c-4008-90fd-13cffbc906d2"
      },
      "execution_count": 97,
      "outputs": [
        {
          "output_type": "error",
          "ename": "KeyError",
          "evalue": "ignored",
          "traceback": [
            "\u001b[0;31m---------------------------------------------------------------------------\u001b[0m",
            "\u001b[0;31mKeyError\u001b[0m                                  Traceback (most recent call last)",
            "\u001b[0;32m/usr/local/lib/python3.10/dist-packages/pandas/core/indexes/base.py\u001b[0m in \u001b[0;36mget_loc\u001b[0;34m(self, key, method, tolerance)\u001b[0m\n\u001b[1;32m   3801\u001b[0m             \u001b[0;32mtry\u001b[0m\u001b[0;34m:\u001b[0m\u001b[0;34m\u001b[0m\u001b[0;34m\u001b[0m\u001b[0m\n\u001b[0;32m-> 3802\u001b[0;31m                 \u001b[0;32mreturn\u001b[0m \u001b[0mself\u001b[0m\u001b[0;34m.\u001b[0m\u001b[0m_engine\u001b[0m\u001b[0;34m.\u001b[0m\u001b[0mget_loc\u001b[0m\u001b[0;34m(\u001b[0m\u001b[0mcasted_key\u001b[0m\u001b[0;34m)\u001b[0m\u001b[0;34m\u001b[0m\u001b[0;34m\u001b[0m\u001b[0m\n\u001b[0m\u001b[1;32m   3803\u001b[0m             \u001b[0;32mexcept\u001b[0m \u001b[0mKeyError\u001b[0m \u001b[0;32mas\u001b[0m \u001b[0merr\u001b[0m\u001b[0;34m:\u001b[0m\u001b[0;34m\u001b[0m\u001b[0;34m\u001b[0m\u001b[0m\n",
            "\u001b[0;32m/usr/local/lib/python3.10/dist-packages/pandas/_libs/index.pyx\u001b[0m in \u001b[0;36mpandas._libs.index.IndexEngine.get_loc\u001b[0;34m()\u001b[0m\n",
            "\u001b[0;32m/usr/local/lib/python3.10/dist-packages/pandas/_libs/index.pyx\u001b[0m in \u001b[0;36mpandas._libs.index.IndexEngine.get_loc\u001b[0;34m()\u001b[0m\n",
            "\u001b[0;32mpandas/_libs/hashtable_class_helper.pxi\u001b[0m in \u001b[0;36mpandas._libs.hashtable.PyObjectHashTable.get_item\u001b[0;34m()\u001b[0m\n",
            "\u001b[0;32mpandas/_libs/hashtable_class_helper.pxi\u001b[0m in \u001b[0;36mpandas._libs.hashtable.PyObjectHashTable.get_item\u001b[0;34m()\u001b[0m\n",
            "\u001b[0;31mKeyError\u001b[0m: 'sentence'",
            "\nThe above exception was the direct cause of the following exception:\n",
            "\u001b[0;31mKeyError\u001b[0m                                  Traceback (most recent call last)",
            "\u001b[0;32m<ipython-input-97-c0a992389061>\u001b[0m in \u001b[0;36m<cell line: 5>\u001b[0;34m()\u001b[0m\n\u001b[1;32m      3\u001b[0m \u001b[0msn\u001b[0m \u001b[0;34m=\u001b[0m \u001b[0mint\u001b[0m\u001b[0;34m(\u001b[0m\u001b[0mSentence\u001b[0m\u001b[0;34m)\u001b[0m\u001b[0;34m\u001b[0m\u001b[0;34m\u001b[0m\u001b[0m\n\u001b[1;32m      4\u001b[0m \u001b[0;34m\u001b[0m\u001b[0m\n\u001b[0;32m----> 5\u001b[0;31m \u001b[0mtxt\u001b[0m \u001b[0;34m=\u001b[0m \u001b[0mdf\u001b[0m\u001b[0;34m[\u001b[0m\u001b[0;34m'sentence'\u001b[0m\u001b[0;34m]\u001b[0m\u001b[0;34m[\u001b[0m\u001b[0msn\u001b[0m\u001b[0;34m-\u001b[0m\u001b[0;36m1\u001b[0m\u001b[0;34m]\u001b[0m\u001b[0;34m\u001b[0m\u001b[0;34m\u001b[0m\u001b[0m\n\u001b[0m\u001b[1;32m      6\u001b[0m \u001b[0metts\u001b[0m\u001b[0;34m(\u001b[0m\u001b[0mtxt\u001b[0m\u001b[0;34m)\u001b[0m\u001b[0;34m\u001b[0m\u001b[0;34m\u001b[0m\u001b[0m\n\u001b[1;32m      7\u001b[0m \u001b[0mAudio\u001b[0m\u001b[0;34m(\u001b[0m\u001b[0;34m\"E-audio.mp3\"\u001b[0m\u001b[0;34m,\u001b[0m \u001b[0mautoplay\u001b[0m \u001b[0;34m=\u001b[0m \u001b[0;32mTrue\u001b[0m\u001b[0;34m)\u001b[0m\u001b[0;34m\u001b[0m\u001b[0;34m\u001b[0m\u001b[0m\n",
            "\u001b[0;32m/usr/local/lib/python3.10/dist-packages/pandas/core/frame.py\u001b[0m in \u001b[0;36m__getitem__\u001b[0;34m(self, key)\u001b[0m\n\u001b[1;32m   3805\u001b[0m             \u001b[0;32mif\u001b[0m \u001b[0mself\u001b[0m\u001b[0;34m.\u001b[0m\u001b[0mcolumns\u001b[0m\u001b[0;34m.\u001b[0m\u001b[0mnlevels\u001b[0m \u001b[0;34m>\u001b[0m \u001b[0;36m1\u001b[0m\u001b[0;34m:\u001b[0m\u001b[0;34m\u001b[0m\u001b[0;34m\u001b[0m\u001b[0m\n\u001b[1;32m   3806\u001b[0m                 \u001b[0;32mreturn\u001b[0m \u001b[0mself\u001b[0m\u001b[0;34m.\u001b[0m\u001b[0m_getitem_multilevel\u001b[0m\u001b[0;34m(\u001b[0m\u001b[0mkey\u001b[0m\u001b[0;34m)\u001b[0m\u001b[0;34m\u001b[0m\u001b[0;34m\u001b[0m\u001b[0m\n\u001b[0;32m-> 3807\u001b[0;31m             \u001b[0mindexer\u001b[0m \u001b[0;34m=\u001b[0m \u001b[0mself\u001b[0m\u001b[0;34m.\u001b[0m\u001b[0mcolumns\u001b[0m\u001b[0;34m.\u001b[0m\u001b[0mget_loc\u001b[0m\u001b[0;34m(\u001b[0m\u001b[0mkey\u001b[0m\u001b[0;34m)\u001b[0m\u001b[0;34m\u001b[0m\u001b[0;34m\u001b[0m\u001b[0m\n\u001b[0m\u001b[1;32m   3808\u001b[0m             \u001b[0;32mif\u001b[0m \u001b[0mis_integer\u001b[0m\u001b[0;34m(\u001b[0m\u001b[0mindexer\u001b[0m\u001b[0;34m)\u001b[0m\u001b[0;34m:\u001b[0m\u001b[0;34m\u001b[0m\u001b[0;34m\u001b[0m\u001b[0m\n\u001b[1;32m   3809\u001b[0m                 \u001b[0mindexer\u001b[0m \u001b[0;34m=\u001b[0m \u001b[0;34m[\u001b[0m\u001b[0mindexer\u001b[0m\u001b[0;34m]\u001b[0m\u001b[0;34m\u001b[0m\u001b[0;34m\u001b[0m\u001b[0m\n",
            "\u001b[0;32m/usr/local/lib/python3.10/dist-packages/pandas/core/indexes/base.py\u001b[0m in \u001b[0;36mget_loc\u001b[0;34m(self, key, method, tolerance)\u001b[0m\n\u001b[1;32m   3802\u001b[0m                 \u001b[0;32mreturn\u001b[0m \u001b[0mself\u001b[0m\u001b[0;34m.\u001b[0m\u001b[0m_engine\u001b[0m\u001b[0;34m.\u001b[0m\u001b[0mget_loc\u001b[0m\u001b[0;34m(\u001b[0m\u001b[0mcasted_key\u001b[0m\u001b[0;34m)\u001b[0m\u001b[0;34m\u001b[0m\u001b[0;34m\u001b[0m\u001b[0m\n\u001b[1;32m   3803\u001b[0m             \u001b[0;32mexcept\u001b[0m \u001b[0mKeyError\u001b[0m \u001b[0;32mas\u001b[0m \u001b[0merr\u001b[0m\u001b[0;34m:\u001b[0m\u001b[0;34m\u001b[0m\u001b[0;34m\u001b[0m\u001b[0m\n\u001b[0;32m-> 3804\u001b[0;31m                 \u001b[0;32mraise\u001b[0m \u001b[0mKeyError\u001b[0m\u001b[0;34m(\u001b[0m\u001b[0mkey\u001b[0m\u001b[0;34m)\u001b[0m \u001b[0;32mfrom\u001b[0m \u001b[0merr\u001b[0m\u001b[0;34m\u001b[0m\u001b[0;34m\u001b[0m\u001b[0m\n\u001b[0m\u001b[1;32m   3805\u001b[0m             \u001b[0;32mexcept\u001b[0m \u001b[0mTypeError\u001b[0m\u001b[0;34m:\u001b[0m\u001b[0;34m\u001b[0m\u001b[0;34m\u001b[0m\u001b[0m\n\u001b[1;32m   3806\u001b[0m                 \u001b[0;31m# If we have a listlike key, _check_indexing_error will raise\u001b[0m\u001b[0;34m\u001b[0m\u001b[0;34m\u001b[0m\u001b[0m\n",
            "\u001b[0;31mKeyError\u001b[0m: 'sentence'"
          ]
        }
      ]
    },
    {
      "cell_type": "code",
      "source": [
        "#@markdown Rainbow sentences\n",
        "Sentence = \"1\" #@param = [1, 2, 3, 4, 5, 6, 7, 8, 9, 10, 11, 12, 13, 14, 15, 16, 17, 18, 19]\n",
        "sn = int(Sentence)\n",
        "\n",
        "txt = df['Sentence'][sn-1]\n",
        "ktts(txt)\n",
        "Audio(\"K-audio.mp3\", autoplay = False)"
      ],
      "metadata": {
        "colab": {
          "base_uri": "https://localhost:8080/",
          "height": 74
        },
        "cellView": "form",
        "id": "6UcGQxRYroo9",
        "outputId": "1df99879-837f-4a73-cc45-9e8b4ecd95da"
      },
      "execution_count": null,
      "outputs": [
        {
          "output_type": "execute_result",
          "data": {
            "text/plain": [
              "<IPython.lib.display.Audio object>"
            ],
            "text/html": [
              "\n",
              "                <audio  controls=\"controls\" autoplay=\"autoplay\">\n",
              "                    <source src=\"data:audio/mpeg;base64,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\" type=\"audio/mpeg\" />\n",
              "                    Your browser does not support the audio element.\n",
              "                </audio>\n",
              "              "
            ]
          },
          "metadata": {},
          "execution_count": 14
        }
      ]
    },
    {
      "cell_type": "markdown",
      "source": [
        "Evaluation in terms of:\n",
        "\n",
        "* Accuracy\n",
        "* Intelligibility\n",
        "* Comprehensibility"
      ],
      "metadata": {
        "id": "DFb3NADRvSgt"
      }
    }
  ]
}