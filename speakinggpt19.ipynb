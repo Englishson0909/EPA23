{
  "nbformat": 4,
  "nbformat_minor": 0,
  "metadata": {
    "colab": {
      "provenance": [],
      "authorship_tag": "ABX9TyOvsEhTYqYZ3Hj5iqbIRVRx",
      "include_colab_link": true
    },
    "kernelspec": {
      "name": "python3",
      "display_name": "Python 3"
    },
    "language_info": {
      "name": "python"
    }
  },
  "cells": [
    {
      "cell_type": "markdown",
      "metadata": {
        "id": "view-in-github",
        "colab_type": "text"
      },
      "source": [
        "<a href=\"https://colab.research.google.com/github/Englishson0909/EPA23/blob/main/speakinggpt19.ipynb\" target=\"_parent\"><img src=\"https://colab.research.google.com/assets/colab-badge.svg\" alt=\"Open In Colab\"/></a>"
      ]
    },
    {
      "cell_type": "code",
      "source": [
        "pip install gTTS\n"
      ],
      "metadata": {
        "colab": {
          "base_uri": "https://localhost:8080/"
        },
        "id": "xtISI1chYEN-",
        "outputId": "59234f95-8c0f-48b0-95d2-7eb94bdb0f08"
      },
      "execution_count": 7,
      "outputs": [
        {
          "output_type": "stream",
          "name": "stdout",
          "text": [
            "Collecting gTTS\n",
            "  Downloading gTTS-2.3.2-py3-none-any.whl (28 kB)\n",
            "Requirement already satisfied: requests<3,>=2.27 in /usr/local/lib/python3.10/dist-packages (from gTTS) (2.27.1)\n",
            "Requirement already satisfied: click<8.2,>=7.1 in /usr/local/lib/python3.10/dist-packages (from gTTS) (8.1.6)\n",
            "Requirement already satisfied: urllib3<1.27,>=1.21.1 in /usr/local/lib/python3.10/dist-packages (from requests<3,>=2.27->gTTS) (1.26.16)\n",
            "Requirement already satisfied: certifi>=2017.4.17 in /usr/local/lib/python3.10/dist-packages (from requests<3,>=2.27->gTTS) (2023.7.22)\n",
            "Requirement already satisfied: charset-normalizer~=2.0.0 in /usr/local/lib/python3.10/dist-packages (from requests<3,>=2.27->gTTS) (2.0.12)\n",
            "Requirement already satisfied: idna<4,>=2.5 in /usr/local/lib/python3.10/dist-packages (from requests<3,>=2.27->gTTS) (3.4)\n",
            "Installing collected packages: gTTS\n",
            "Successfully installed gTTS-2.3.2\n"
          ]
        }
      ]
    },
    {
      "cell_type": "code",
      "source": [
        "from gtts import gTTS\n",
        "import os\n",
        "\n",
        "def evaluate_speaking():\n",
        "    # Prompt the student to speak\n",
        "    print(\"Please speak a sentence or two:\")\n",
        "    user_input = input()\n",
        "\n",
        "    # Evaluate the speaking\n",
        "    print(\"\\nEvaluating your speaking:\")\n",
        "    print(user_input)\n",
        "\n",
        "    # Convert text to speech\n",
        "    tts = gTTS(text=user_input, lang='en')\n",
        "    tts.save('output.mp3')\n",
        "\n",
        "    # Play the generated audio\n",
        "    os.system('mpg321 output.mp3')  # Install mpg321 for Linux or use other players for different OS\n",
        "\n",
        "    # Clean up the temporary audio file\n",
        "    os.remove('output.mp3')\n",
        "\n",
        "if __name__ == \"__main__\":\n",
        "    evaluate_speaking()\n"
      ],
      "metadata": {
        "colab": {
          "base_uri": "https://localhost:8080/"
        },
        "id": "-KZGLTU1YHuq",
        "outputId": "8e6bf5ea-6590-47cb-c7f2-84288432bb56"
      },
      "execution_count": null,
      "outputs": [
        {
          "output_type": "stream",
          "name": "stdout",
          "text": [
            "Please speak a sentence or two:\n"
          ]
        }
      ]
    },
    {
      "cell_type": "code",
      "source": [
        "pip install gTTS\n",
        "pip install SpeechRecognition\n",
        "\n"
      ],
      "metadata": {
        "id": "_9tqj8BJYlns"
      },
      "execution_count": null,
      "outputs": []
    },
    {
      "cell_type": "code",
      "source": [
        "from gtts import gTTS\n",
        "import os\n",
        "import speech_recognition as sr\n",
        "\n",
        "def evaluate_speaking():\n",
        "    # Initialize the recognizer\n",
        "    recognizer = sr.Recognizer()\n",
        "\n",
        "    # Prompt the student to speak\n",
        "    print(\"Please speak a sentence or two:\")\n",
        "    with sr.Microphone() as source:\n",
        "        audio = recognizer.listen(source)\n",
        "\n",
        "    # Recognize the speech\n",
        "    try:\n",
        "        user_input = recognizer.recognize_google(audio)\n",
        "    except sr.UnknownValueError:\n",
        "        print(\"Sorry, I could not understand what you said.\")\n",
        "        return\n",
        "    except sr.RequestError:\n",
        "        print(\"Sorry, the speech recognition service is unavailable.\")\n",
        "        return\n",
        "\n",
        "    # Evaluate the speaking\n",
        "    print(\"\\nEvaluating your speaking:\")\n",
        "    print(user_input)\n",
        "\n",
        "    # Convert text to speech\n",
        "    tts = gTTS(text=user_input, lang='en')\n",
        "    tts.save('output.mp3')\n",
        "\n",
        "    # Play the generated audio\n",
        "    os.system('mpg321 output.mp3')  # Install mpg321 for Linux or use other players for different OS\n",
        "\n",
        "    # Clean up the temporary audio file\n",
        "    os.remove('output.mp3')\n",
        "\n",
        "if __name__ == \"__main__\":\n",
        "    evaluate_speaking()\n"
      ],
      "metadata": {
        "id": "nLhr-ZbDYn6z"
      },
      "execution_count": null,
      "outputs": []
    }
  ]
}